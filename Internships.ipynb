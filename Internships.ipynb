{
  "nbformat": 4,
  "nbformat_minor": 0,
  "metadata": {
    "colab": {
      "provenance": [],
      "collapsed_sections": [],
      "authorship_tag": "ABX9TyOdb+GddIJhE9fc2v8OroC+",
      "include_colab_link": true
    },
    "kernelspec": {
      "name": "python3",
      "display_name": "Python 3"
    },
    "language_info": {
      "name": "python"
    }
  },
  "cells": [
    {
      "cell_type": "markdown",
      "metadata": {
        "id": "view-in-github",
        "colab_type": "text"
      },
      "source": [
        "<a href=\"https://colab.research.google.com/github/aleemv1/InternshipScraper/blob/main/Internships.ipynb\" target=\"_parent\"><img src=\"https://colab.research.google.com/assets/colab-badge.svg\" alt=\"Open In Colab\"/></a>"
      ]
    },
    {
      "cell_type": "code",
      "execution_count": 7,
      "metadata": {
        "id": "h-sx8zISrG1n"
      },
      "outputs": [],
      "source": [
        "import requests\n",
        "import pandas\n",
        "from bs4 import BeautifulSoup"
      ]
    },
    {
      "cell_type": "code",
      "source": [
        "main = \"https://github.com/pittcsc/Summer2023-Internships\"\n",
        "page = requests.get(main)\n",
        "soup = BeautifulSoup(page.content, \"html.parser\")"
      ],
      "metadata": {
        "id": "xfNUjLzbtnBJ"
      },
      "execution_count": 8,
      "outputs": []
    },
    {
      "cell_type": "code",
      "source": [
        "body = soup.find(\"tbody\")"
      ],
      "metadata": {
        "id": "IYPF2XN8tuHp"
      },
      "execution_count": 9,
      "outputs": []
    },
    {
      "cell_type": "code",
      "source": [
        "jobs = body.findAll(\"td\")"
      ],
      "metadata": {
        "id": "GTOg4Z0Yu1gE"
      },
      "execution_count": 10,
      "outputs": []
    },
    {
      "cell_type": "code",
      "source": [
        "q = open(\"Quant.txt\", \"w\")\n",
        "s = open(\"Software.txt\", \"w\")\n",
        "d = open(\"Data.txt\", \"w\")\n",
        "o = open(\"Other.txt\", \"w\")\n",
        "el = open(\"Else.txt\", \"w\")\n",
        "\n",
        "for i in range(0,len(jobs),3):\n",
        "  if i%3 == 0:\n",
        "    job = jobs[i]\n",
        "    link = job.find(\"a\")\n",
        "    desc = str(jobs[i+2].text)\n",
        "    if str(jobs[i+1].text).find(\"Remote\") == -1:\n",
        "      if desc.find(\"Quant\") != -1 or desc.find(\"Analyst\") != -1:\n",
        "        if link != None:\n",
        "          l = link['href']\n",
        "          q.write(str(job.text) + \" link: \" + str(l) + \"\\n\")\n",
        "        else:\n",
        "          el.write(str(job.text) + \"\\n\")\n",
        "      elif desc.find(\"SDE\") != -1 or desc.find(\"SWE\") != -1 or desc.find(\"Software\") != -1:\n",
        "        if link != None:\n",
        "          l = link['href']\n",
        "          s.write(str(job.text) + \" link: \" + str(l) + \" \\n\")  \n",
        "        else:\n",
        "          el.write(str(job.text) + \"\\n\")\n",
        "      elif desc.find(\"Data\") != -1:\n",
        "        if link != None:\n",
        "          l = link['href']\n",
        "          d.write(str(job.text) + \" link: \" + str(l) + \" \\n\")\n",
        "        else:\n",
        "          el.write(str(job.text) + \"\\n\")\n",
        "      else:\n",
        "        if link != None:\n",
        "          l = link['href']\n",
        "          o.write(str(job.text) + \" link: \" + str(l) + \" \\n\")\n",
        "        else:\n",
        "          el.write(str(job.text) + \"\\n\")\n",
        "\n",
        "     \n",
        "q.close()\n",
        "s.close()\n",
        "d.close()\n",
        "o.close()\n",
        "el.close()"
      ],
      "metadata": {
        "id": "SCH2gj_gvKYF"
      },
      "execution_count": 14,
      "outputs": []
    },
    {
      "cell_type": "code",
      "source": [],
      "metadata": {
        "id": "4Q6_ruJ3QOi7"
      },
      "execution_count": 11,
      "outputs": []
    }
  ]
}