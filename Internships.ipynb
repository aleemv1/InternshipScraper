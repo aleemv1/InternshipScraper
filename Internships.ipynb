{
  "nbformat": 4,
  "nbformat_minor": 0,
  "metadata": {
    "colab": {
      "provenance": [],
      "collapsed_sections": [],
      "authorship_tag": "ABX9TyP9bbOm9VduAvDawP00Cdgm",
      "include_colab_link": true
    },
    "kernelspec": {
      "name": "python3",
      "display_name": "Python 3"
    },
    "language_info": {
      "name": "python"
    }
  },
  "cells": [
    {
      "cell_type": "markdown",
      "metadata": {
        "id": "view-in-github",
        "colab_type": "text"
      },
      "source": [
        "<a href=\"https://colab.research.google.com/github/aleemv1/InternshipScraper/blob/main/Internships.ipynb\" target=\"_parent\"><img src=\"https://colab.research.google.com/assets/colab-badge.svg\" alt=\"Open In Colab\"/></a>"
      ]
    },
    {
      "cell_type": "code",
      "execution_count": null,
      "metadata": {
        "id": "h-sx8zISrG1n"
      },
      "outputs": [],
      "source": [
        "import requests\n",
        "import pandas\n",
        "from bs4 import BeautifulSoup"
      ]
    },
    {
      "cell_type": "code",
      "source": [
        "main = \"https://github.com/pittcsc/Summer2023-Internships\"\n",
        "page = requests.get(main)\n",
        "soup = BeautifulSoup(page.content, \"html.parser\")"
      ],
      "metadata": {
        "id": "xfNUjLzbtnBJ"
      },
      "execution_count": null,
      "outputs": []
    },
    {
      "cell_type": "code",
      "source": [
        "body = soup.find(\"tbody\")"
      ],
      "metadata": {
        "id": "IYPF2XN8tuHp"
      },
      "execution_count": null,
      "outputs": []
    },
    {
      "cell_type": "code",
      "source": [
        "jobs = body.findAll(\"td\")"
      ],
      "metadata": {
        "id": "GTOg4Z0Yu1gE"
      },
      "execution_count": null,
      "outputs": []
    },
    {
      "cell_type": "code",
      "source": [
        "f = open(\"Quant.csv\", \"w\")\n",
        "ql = open(\"QuantLink.csv\", \"w\")\n",
        "f2 = open(\"Software.csv\", \"w\")\n",
        "sl = open(\"SoftwareLink.txt\", \"w\")\n",
        "f3 = open(\"Data.csv\", \"w\")\n",
        "dl = open(\"DataLink.csv\", \"w\")\n",
        "f4 = open(\"Other.txt\", \"w\")\n",
        "f22 = open(\"OtherLink.txt\", \"w\")\n",
        "el = open(\"Else.txt\", \"w\")\n",
        "\n",
        "for i in range(0,len(jobs),3):\n",
        "  if i%3 == 0:\n",
        "    job = jobs[i]\n",
        "    link = job.find(\"a\")\n",
        "    desc = str(jobs[i+2].text)\n",
        "    if str(jobs[i+1].text).find(\"Remote\") == -1:\n",
        "      if desc.find(\"Quant\") != -1 or desc.find(\"Analyst\") != -1:\n",
        "        if link != None:\n",
        "          l = link['href']\n",
        "          print(l)\n",
        "          f.write(str(job.text) + \"\\n\")\n",
        "          ql.write(l + \"\\n\")\n",
        "        else:\n",
        "          el.write(str(job.text) + \"\\n\")\n",
        "      elif desc.find(\"SDE\") != -1 or desc.find(\"SWE\") != -1 or desc.find(\"Software\") != -1:\n",
        "        if link != None:\n",
        "          l = link['href']\n",
        "          f2.write(str(job.text) + \" \\n\")  \n",
        "          sl.write(l + \" \\n\")\n",
        "        else:\n",
        "          el.write(str(job.text) + \"\\n\")\n",
        "      elif desc.find(\"Data\") != -1:\n",
        "        if link != None:\n",
        "          l = link['href']\n",
        "          f3.write(str(job.text) + \" \\n\")\n",
        "          dl.write(l + \"\\n\")\n",
        "        else:\n",
        "          el.write(str(job.text) + \"\\n\")\n",
        "      else:\n",
        "        if link != None:\n",
        "          l = link['href']\n",
        "          f4.write(str(job.text) + \" \\n\")\n",
        "          f22.write(l + \"\\n\")\n",
        "        else:\n",
        "          el.write(str(job.text) + \"\\n\")\n",
        "\n",
        "     \n",
        "f.close()\n",
        "f2.close()\n",
        "f3.close()\n",
        "f4.close()"
      ],
      "metadata": {
        "id": "SCH2gj_gvKYF",
        "colab": {
          "base_uri": "https://localhost:8080/"
        },
        "outputId": "4e1df102-8315-430b-8c64-284ddd645f59"
      },
      "execution_count": null,
      "outputs": [
        {
          "output_type": "stream",
          "name": "stdout",
          "text": [
            "https://akunacapital.com/careers?&experience=intern&search_term=#careers\n",
            "https://jobs.citi.com/job/new-york/quantitative-analysis-summer-analyst-north-america-2023/287/28553736048\n",
            "https://fiverings.avature.net/careers/SearchJobs/?524=534&524_format=523&listFilterMode=1&folderRecordsPerPage=6&\n",
            "https://www.goldmansachs.com/careers/students/programs/americas/summer-analyst-program.html\n",
            "https://morganstanley.tal.net/vx/candidate/apply/12954\n",
            "https://www.optiver.com/working-at-optiver/career-opportunities/?filter-level=internship\n",
            "https://www.voloridge.com/join-our-team\n",
            "https://careers.twosigma.com/careers/JobDetail/New-York-New-York-United-States-Quantitative-Researcher-Internship/10972\n",
            "https://imc.wd5.myworkdayjobs.com/en-US/invitation/jobs/details/Software-Engineer-Intern----Summer-2023_REQ-01961?q=internship\n",
            "https://www.citadel.com/careers/open-positions/positions-for-students/?keyword=Intern\n",
            "https://blackstone.wd1.myworkdayjobs.com/en-US/Blackstone_Campus_Careers/details/XMLNAME-2023-Blackstone-Technology-and-Innovations--Software-Developer-Summer-Analyst--New-York-_23913\n",
            "https://arrowstreetcapital.wd5.myworkdayjobs.com/en-US/Arrowstreet/job/Boston/Quantitative-Researcher-Intern--Summer-2023_R700\n",
            "https://drw.com/work-at-drw/category/campus/\n",
            "https://boards.greenhouse.io/aquaticcapitalmanagement\n",
            "https://www.accenture.com/us-en/careers/jobdetails?id=R00098803_en&title=Summer+Analyst+(Intern)+Development+Programs+-+NAELFY23\n",
            "https://gallup.taleo.net/careersection/2/jobsearch.ftl\n",
            "https://arrowstreetcapital.wd5.myworkdayjobs.com/en-US/Arrowstreet?q=intern\n",
            "https://nomuracampus.tal.net/vx/lang-en-GB/mobile-0/appcentre-1/brand-4/xf-4d873717800a/candidate/so/pm/1/pl/1/opp/735-2023-Corporate-Infrastructure-Information-Technology-Summer-Analyst/en-GB\n",
            "https://www.mckinsey.com/careers/search-jobs?query=software%20engineer%20intern\n"
          ]
        }
      ]
    },
    {
      "cell_type": "code",
      "source": [],
      "metadata": {
        "id": "4Q6_ruJ3QOi7"
      },
      "execution_count": null,
      "outputs": []
    }
  ]
}